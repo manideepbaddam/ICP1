{
 "cells": [
  {
   "cell_type": "code",
   "execution_count": 5,
   "id": "34ee3198",
   "metadata": {},
   "outputs": [
    {
     "name": "stdout",
     "output_type": "stream",
     "text": [
      "Enter the string with a space between each character\n",
      "p y t h o n\n",
      "ohty\n"
     ]
    }
   ],
   "source": [
    "\n",
    "\n",
    "l=input(\"Enter the string with a space between each character\\n\").split()\n",
    "del(l[0])\n",
    "del(l[4])\n",
    "print(''.join(l[::-1]))"
   ]
  },
  {
   "cell_type": "code",
   "execution_count": 1,
   "id": "4aa9f50a",
   "metadata": {},
   "outputs": [
    {
     "name": "stdout",
     "output_type": "stream",
     "text": [
      "enter 1st number45\n",
      "enter 2nd number22\n",
      "sum of the numbers is 67\n",
      "difference of the numbers is 23\n",
      "multiplication of the numbers is 990\n",
      "division of the numbers is 2.0454545454545454\n"
     ]
    }
   ],
   "source": [
    "c = int(input(\"enter 1st number\"))\n",
    "r = int(input(\"enter 2nd number\"))\n",
    "\n",
    "add = c+r\n",
    "sub = c-r\n",
    "mul = c*r\n",
    "div = c/r\n",
    "\n",
    "print(\"sum of the numbers is\", add)\n",
    "print(\"difference of the numbers is\", sub)\n",
    "print(\"multiplication of the numbers is\", mul)\n",
    "print(\"division of the numbers is\", div)"
   ]
  },
  {
   "cell_type": "code",
   "execution_count": 6,
   "id": "226e11df",
   "metadata": {},
   "outputs": [
    {
     "name": "stdout",
     "output_type": "stream",
     "text": [
      "Please enter the sentence:i love playing with python\n",
      "i love playing with pythons\n"
     ]
    }
   ],
   "source": [
    "User_Input = input(\"Please enter the sentence:\")\n",
    "User_Value = User_Input.lower()\n",
    "Modified_User_Value = User_Input.replace(\"python\", \"pythons\")\n",
    "print(Modified_User_Value)"
   ]
  },
  {
   "cell_type": "code",
   "execution_count": 2,
   "id": "c7d1636f",
   "metadata": {},
   "outputs": [
    {
     "name": "stdout",
     "output_type": "stream",
     "text": [
      "enter percent89\n",
      "The pupil will get Grade B\n"
     ]
    }
   ],
   "source": [
    "\n",
    "\n",
    "z = float(input(\"enter percent\"))\n",
    "if z>=90.00 and z<=100:\n",
    "    print(\"The pupil will get Grade A\")\n",
    "elif z>=80.00 and z<=89.99:\n",
    "    print(\"The pupil will get Grade B\")\n",
    "elif z>=70.00 and z<=79.99:\n",
    "    print(\"The pupil will get Grade C\")\n",
    "elif z>=60.00 and z<=69.99:\n",
    "    print(\"The pupil will get Grade D\")\n",
    "elif z<60.00:\n",
    "    print(\"The pupil will get Grade F\")\n",
    "    "
   ]
  },
  {
   "cell_type": "code",
   "execution_count": null,
   "id": "9a9c0829",
   "metadata": {},
   "outputs": [],
   "source": []
  }
 ],
 "metadata": {
  "kernelspec": {
   "display_name": "Python 3 (ipykernel)",
   "language": "python",
   "name": "python3"
  },
  "language_info": {
   "codemirror_mode": {
    "name": "ipython",
    "version": 3
   },
   "file_extension": ".py",
   "mimetype": "text/x-python",
   "name": "python",
   "nbconvert_exporter": "python",
   "pygments_lexer": "ipython3",
   "version": "3.9.12"
  }
 },
 "nbformat": 4,
 "nbformat_minor": 5
}
